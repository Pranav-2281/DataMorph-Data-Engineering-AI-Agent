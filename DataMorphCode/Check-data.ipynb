{
 "cells": [
  {
   "cell_type": "code",
   "execution_count": 11,
   "id": "559c83c9-274b-4f0a-8a0f-aeceef4300cd",
   "metadata": {},
   "outputs": [
    {
     "name": "stdout",
     "output_type": "stream",
     "text": [
      "Files in Raw/:\n",
      "No files found under prefix 'Raw/'\n",
      "\n",
      "Files in Transformed/:\n",
      "No files found under prefix 'Transformed/'\n"
     ]
    }
   ],
   "source": [
    "import boto3\n",
    "\n",
    "s3 = boto3.client('s3')\n",
    "bucket_name = 'eng-agent-bucket'\n",
    "\n",
    "def list_files(prefix):\n",
    "    response = s3.list_objects_v2(Bucket=bucket_name, Prefix=prefix)\n",
    "    if 'Contents' in response:\n",
    "        for obj in response['Contents']:\n",
    "            print(obj['Key'])\n",
    "    else:\n",
    "        print(f\"No files found under prefix '{prefix}'\")\n",
    "\n",
    "print(\"Files in Raw/:\")\n",
    "list_files('Raw/')\n",
    "\n",
    "print(\"\\nFiles in Transformed/:\")\n",
    "list_files('Transformed/')\n"
   ]
  },
  {
   "cell_type": "markdown",
   "id": "a1f13eb1-2c96-4a41-855c-f5f3273c4a42",
   "metadata": {},
   "source": [
    "Python code to remove all the files from the Raw and Transformed prefix of the S3 bucket"
   ]
  },
  {
   "cell_type": "code",
   "execution_count": 7,
   "id": "87630c66-4394-47a9-b33e-8e60af3d9950",
   "metadata": {},
   "outputs": [
    {
     "name": "stdout",
     "output_type": "stream",
     "text": [
      "No files found in 'Raw/'\n",
      "Deleted objects from 'Transformed/':\n",
      "  - Transformed/converted_abc.json\n"
     ]
    }
   ],
   "source": [
    "import boto3\n",
    "\n",
    "# S3 configuration\n",
    "s3 = boto3.client('s3')\n",
    "bucket_name = 'eng-agent-bucket'\n",
    "prefixes = ['Raw/', 'Transformed/']\n",
    "\n",
    "def delete_files_in_prefix(bucket, prefix):\n",
    "    # List all objects with the given prefix\n",
    "    response = s3.list_objects_v2(Bucket=bucket, Prefix=prefix)\n",
    "\n",
    "    if 'Contents' in response:\n",
    "        # Prepare objects for deletion\n",
    "        objects_to_delete = [{'Key': obj['Key']} for obj in response['Contents']]\n",
    "        delete_response = s3.delete_objects(\n",
    "            Bucket=bucket,\n",
    "            Delete={'Objects': objects_to_delete}\n",
    "        )\n",
    "        print(f\"Deleted objects from '{prefix}':\")\n",
    "        for obj in delete_response.get('Deleted', []):\n",
    "            print(f\"  - {obj['Key']}\")\n",
    "    else:\n",
    "        print(f\"No files found in '{prefix}'\")\n",
    "\n",
    "# Delete files in both prefixes\n",
    "for prefix in prefixes:\n",
    "    delete_files_in_prefix(bucket_name, prefix)\n"
   ]
  },
  {
   "cell_type": "code",
   "execution_count": null,
   "id": "dcddc45f-fc6c-437b-b734-778a6fbfb76d",
   "metadata": {},
   "outputs": [],
   "source": []
  }
 ],
 "metadata": {
  "kernelspec": {
   "display_name": "conda_tensorflow2_p310",
   "language": "python",
   "name": "conda_tensorflow2_p310"
  },
  "language_info": {
   "codemirror_mode": {
    "name": "ipython",
    "version": 3
   },
   "file_extension": ".py",
   "mimetype": "text/x-python",
   "name": "python",
   "nbconvert_exporter": "python",
   "pygments_lexer": "ipython3",
   "version": "3.10.17"
  }
 },
 "nbformat": 4,
 "nbformat_minor": 5
}
